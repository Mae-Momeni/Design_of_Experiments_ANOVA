{
 "cells": [
  {
   "cell_type": "markdown",
   "id": "2b644b15",
   "metadata": {},
   "source": [
    "# Design of Experiments (DOE)"
   ]
  },
  {
   "cell_type": "code",
   "execution_count": null,
   "id": "c3ca99c6",
   "metadata": {},
   "outputs": [],
   "source": [
    "import pandas as pd\n",
    "import matplotlib.pyplot as plt\n",
    "import numpy as np\n",
    "import seaborn as sns\n",
    "\n",
    "import itertools\n",
    "from itertools import product\n",
    "\n",
    "import oapackage\n",
    "\n",
    "import statsmodels.api as sm\n",
    "from statsmodels.formula.api import ols\n",
    "\n",
    "from sklearn.linear_model import LinearRegression\n",
    "from sklearn.metrics import mean_squared_error\n",
    "from sklearn.preprocessing import PolynomialFeatures\n",
    "from sklearn.model_selection import train_test_split\n",
    "\n",
    "%matplotlib inline"
   ]
  },
  {
   "cell_type": "markdown",
   "id": "7478ec09",
   "metadata": {},
   "source": [
    "## Full Factorial Design"
   ]
  },
  {
   "cell_type": "code",
   "execution_count": 75,
   "id": "12dd613e",
   "metadata": {},
   "outputs": [
    {
     "name": "stdout",
     "output_type": "stream",
     "text": [
      " Trial  V (mm/min)  w (rpm)  PD (mm)\n",
      "     1        1300     3500     2.60\n",
      "     2        1300     3500     2.65\n",
      "     3        1300     3500     2.70\n",
      "     4        1300     4250     2.60\n",
      "     5        1300     4250     2.65\n",
      "     6        1300     4250     2.70\n",
      "     7        1300     5000     2.60\n",
      "     8        1300     5000     2.65\n",
      "     9        1300     5000     2.70\n",
      "    10        1600     3500     2.60\n",
      "    11        1600     3500     2.65\n",
      "    12        1600     3500     2.70\n",
      "    13        1600     4250     2.60\n",
      "    14        1600     4250     2.65\n",
      "    15        1600     4250     2.70\n",
      "    16        1600     5000     2.60\n",
      "    17        1600     5000     2.65\n",
      "    18        1600     5000     2.70\n",
      "    19        2000     3500     2.60\n",
      "    20        2000     3500     2.65\n",
      "    21        2000     3500     2.70\n",
      "    22        2000     4250     2.60\n",
      "    23        2000     4250     2.65\n",
      "    24        2000     4250     2.70\n",
      "    25        2000     5000     2.60\n",
      "    26        2000     5000     2.65\n",
      "    27        2000     5000     2.70\n"
     ]
    }
   ],
   "source": [
    "def generate_full_factorial_design(factor_levels):\n",
    "    factor_combinations = list(itertools.product(*factor_levels))\n",
    "    trials = len(factor_combinations)\n",
    "    full_factorial_design = []\n",
    "\n",
    "    for i in range(trials):\n",
    "        row = [i + 1]\n",
    "        for j in range(len(factor_levels)):\n",
    "            row.append(factor_combinations[i][j])\n",
    "        full_factorial_design.append(row)\n",
    "\n",
    "    return full_factorial_design\n",
    "\n",
    "def create_full_factorial_design_table(full_factorial_design):\n",
    "    headers = [\"Trial\", \"V (mm/min)\", \"w (rpm)\", \"PD (mm)\"]\n",
    "    df = pd.DataFrame(full_factorial_design, columns=headers)\n",
    "    return df\n",
    "\n",
    "# Define the factor levels\n",
    "factor_levels = [\n",
    "    [1300, 1600, 2000],  # Factor A levels\n",
    "    [3500, 4250, 5000],  # Factor B levels\n",
    "    [2.6, 2.65, 2.7]  # Factor C levels\n",
    "]\n",
    "\n",
    "# Generate the full factorial design\n",
    "full_factorial_design = generate_full_factorial_design(factor_levels)\n",
    "\n",
    "# Create and display the full factorial design table\n",
    "full_factorial_design_table = create_full_factorial_design_table(full_factorial_design)\n",
    "print(full_factorial_design_table.to_string(index=False))\n"
   ]
  },
  {
   "cell_type": "markdown",
   "id": "a8c7bc28",
   "metadata": {},
   "source": [
    "## Taguchi Method"
   ]
  },
  {
   "cell_type": "code",
   "execution_count": 94,
   "id": "cb992c5c",
   "metadata": {},
   "outputs": [
    {
     "name": "stdout",
     "output_type": "stream",
     "text": [
      "In this example we generate orthogonal arrays in the class: arrayclass: N 32, k 7, strength 2, s {2,2,2,2,2,2,2}, order 0\n"
     ]
    }
   ],
   "source": [
    "run_size = 32\n",
    "number_of_factors = 7\n",
    "factor_levels = 2\n",
    "strength = 2\n",
    "nkeep = 24  # Number of designs to keep at each stage\n",
    "\n",
    "arrayclass = oapackage.arraydata_t(factor_levels, run_size, strength, number_of_factors)\n",
    "print(\"In this example we generate orthogonal arrays in the class: %s\" % arrayclass)"
   ]
  },
  {
   "cell_type": "code",
   "execution_count": 95,
   "id": "22f07865",
   "metadata": {},
   "outputs": [
    {
     "name": "stdout",
     "output_type": "stream",
     "text": [
      "extend 1 arrays with 2 columns with a single column\n",
      "  generated 5 arrays, selected 5 arrays with D-efficiency 0.0000 to 1.0000\n",
      "extend 5 arrays with 3 columns with a single column\n",
      "  generated 19 arrays, selected 19 arrays with D-efficiency 0.0000 to 1.0000\n",
      "extend 19 arrays with 4 columns with a single column\n",
      "  generated 491 arrays, selected 24 arrays with D-efficiency 0.9183 to 1.0000\n",
      "extend 24 arrays with 5 columns with a single column\n",
      "  generated 2475 arrays, selected 24 arrays with D-efficiency 0.9196 to 1.0000\n",
      "extend 24 arrays with 6 columns with a single column\n",
      "  generated 94 arrays, selected 24 arrays with D-efficiency 0.7844 to 0.8360\n"
     ]
    }
   ],
   "source": [
    "arraylist = [arrayclass.create_root()]\n",
    "\n",
    "# %% Extend arrays and filter based on D-efficiency\n",
    "options = oapackage.OAextend()\n",
    "options.setAlgorithmAuto(arrayclass)\n",
    "\n",
    "for extension_column in range(strength + 1, number_of_factors + 1):\n",
    "    print(\"extend %d arrays with %d columns with a single column\" % (len(arraylist), arraylist[0].n_columns))\n",
    "    arraylist_extensions = oapackage.extend_arraylist(arraylist, arrayclass, options)\n",
    "\n",
    "    # Select the best arrays based on the D-efficiency\n",
    "    dd = np.array([a.Defficiency() for a in arraylist_extensions])\n",
    "    ind = np.argsort(dd)[::-1][0:nkeep]\n",
    "    selection = [arraylist_extensions[ii] for ii in ind]\n",
    "    dd = dd[ind]\n",
    "    print(\n",
    "        \"  generated %d arrays, selected %d arrays with D-efficiency %.4f to %.4f\"\n",
    "        % (len(arraylist_extensions), len(ind), dd.min(), dd.max())\n",
    "    )\n",
    "\n",
    "    arraylist = selection"
   ]
  },
  {
   "cell_type": "code",
   "execution_count": 96,
   "id": "348cb15f",
   "metadata": {},
   "outputs": [
    {
     "name": "stdout",
     "output_type": "stream",
     "text": [
      "Generated a design in OA(32, 2, 2^7) with D-efficiency 0.8360\n",
      "The array is (in transposed form):\n",
      "\n",
      "00000000000000001111111111111111\n",
      "00000000111111110000000011111111\n",
      "00000111000111110001111100000111\n",
      "00011001011001110110011100011001\n",
      "00101010101010111010101100101010\n",
      "01001011010110011101000101101001\n",
      "01110010001101010111001010100011\n"
     ]
    }
   ],
   "source": [
    "selected_array = selection[0]\n",
    "print(\n",
    "    \"Generated a design in OA(%d, %d, 2^%d) with D-efficiency %.4f\"\n",
    "    % (selected_array.n_rows, arrayclass.strength, selected_array.n_columns, dd[0])\n",
    ")\n",
    "print(\"The array is (in transposed form):\\n\")\n",
    "selected_array.transposed().showarraycompact()"
   ]
  },
  {
   "cell_type": "code",
   "execution_count": 109,
   "id": "2bdefa03",
   "metadata": {},
   "outputs": [
    {
     "name": "stdout",
     "output_type": "stream",
     "text": [
      " trial  V (mm/min)  w (rpm)  PD (mm)\n",
      "     1        1300     3500     2.60\n",
      "     2        1300     4250     2.65\n",
      "     3        1300     5000     2.70\n",
      "     4        1600     3500     2.65\n",
      "     5        1600     4250     2.70\n",
      "     6        1600     5000     2.60\n",
      "     7        2000     3500     2.70\n",
      "     8        2000     4250     2.65\n",
      "     9        2000     5000     2.65\n"
     ]
    }
   ],
   "source": [
    "features = [\"V (mm/min)\", \"w (rpm)\", \"PD (mm)\"]\n",
    "factor_levels = [\n",
    "    [1300, 1600, 2000],  \n",
    "    [3500, 4250, 5000], \n",
    "    [2.6, 2.65, 2.7]  \n",
    "]\n",
    "\n",
    "factor_combinations = list(product(*factor_levels))\n",
    "table_data = [[i + 1] + list(vals) for i, vals in enumerate(factor_combinations)]\n",
    "\n",
    "df = pd.DataFrame(table_data, columns=[\"trial\"] + features)\n",
    "filtered_df = df[df['trial'].isin([1, 5, 9, 11, 15, 16, 21, 23, 26])]\n",
    "filtered_df = filtered_df.reset_index(drop=True)\n",
    "filtered_df['trial'] = range(1, len(filtered_df) + 1)\n",
    "print(filtered_df.to_string(index=False))\n"
   ]
  },
  {
   "cell_type": "markdown",
   "id": "d12b3b6b",
   "metadata": {},
   "source": [
    "### Experimental Results"
   ]
  },
  {
   "cell_type": "code",
   "execution_count": 112,
   "id": "d1a5b4ff",
   "metadata": {},
   "outputs": [],
   "source": [
    "df_fsw = pd.read_csv(\".\\\\data\\\\paper4.csv\")"
   ]
  },
  {
   "cell_type": "code",
   "execution_count": 113,
   "id": "42eeb6e5",
   "metadata": {},
   "outputs": [],
   "source": [
    "cols = [\"OL (mm)\", \"DAF (N)\", \"FF (N)\"]\n",
    "X = df_fsw.drop(cols, axis=1)  # Features\n",
    "FF = df_fsw[\"FF (N)\"]  # Target variable"
   ]
  },
  {
   "cell_type": "code",
   "execution_count": 114,
   "id": "d6005813",
   "metadata": {},
   "outputs": [
    {
     "data": {
      "text/html": [
       "<div>\n",
       "<style scoped>\n",
       "    .dataframe tbody tr th:only-of-type {\n",
       "        vertical-align: middle;\n",
       "    }\n",
       "\n",
       "    .dataframe tbody tr th {\n",
       "        vertical-align: top;\n",
       "    }\n",
       "\n",
       "    .dataframe thead th {\n",
       "        text-align: right;\n",
       "    }\n",
       "</style>\n",
       "<table border=\"1\" class=\"dataframe\">\n",
       "  <thead>\n",
       "    <tr style=\"text-align: right;\">\n",
       "      <th></th>\n",
       "      <th>V (mm/min)</th>\n",
       "      <th>w (rpm)</th>\n",
       "      <th>PD (mm)</th>\n",
       "    </tr>\n",
       "  </thead>\n",
       "  <tbody>\n",
       "    <tr>\n",
       "      <th>0</th>\n",
       "      <td>1300</td>\n",
       "      <td>3500</td>\n",
       "      <td>2.60</td>\n",
       "    </tr>\n",
       "    <tr>\n",
       "      <th>1</th>\n",
       "      <td>1300</td>\n",
       "      <td>4250</td>\n",
       "      <td>2.65</td>\n",
       "    </tr>\n",
       "    <tr>\n",
       "      <th>2</th>\n",
       "      <td>1300</td>\n",
       "      <td>5000</td>\n",
       "      <td>2.70</td>\n",
       "    </tr>\n",
       "    <tr>\n",
       "      <th>3</th>\n",
       "      <td>1600</td>\n",
       "      <td>3500</td>\n",
       "      <td>2.65</td>\n",
       "    </tr>\n",
       "    <tr>\n",
       "      <th>4</th>\n",
       "      <td>1600</td>\n",
       "      <td>4250</td>\n",
       "      <td>2.70</td>\n",
       "    </tr>\n",
       "    <tr>\n",
       "      <th>5</th>\n",
       "      <td>1600</td>\n",
       "      <td>5000</td>\n",
       "      <td>2.60</td>\n",
       "    </tr>\n",
       "    <tr>\n",
       "      <th>6</th>\n",
       "      <td>2000</td>\n",
       "      <td>3500</td>\n",
       "      <td>2.70</td>\n",
       "    </tr>\n",
       "    <tr>\n",
       "      <th>7</th>\n",
       "      <td>2000</td>\n",
       "      <td>4250</td>\n",
       "      <td>2.60</td>\n",
       "    </tr>\n",
       "    <tr>\n",
       "      <th>8</th>\n",
       "      <td>2000</td>\n",
       "      <td>5000</td>\n",
       "      <td>2.65</td>\n",
       "    </tr>\n",
       "    <tr>\n",
       "      <th>9</th>\n",
       "      <td>1300</td>\n",
       "      <td>5000</td>\n",
       "      <td>2.64</td>\n",
       "    </tr>\n",
       "  </tbody>\n",
       "</table>\n",
       "</div>"
      ],
      "text/plain": [
       "   V (mm/min)  w (rpm)  PD (mm)\n",
       "0        1300     3500     2.60\n",
       "1        1300     4250     2.65\n",
       "2        1300     5000     2.70\n",
       "3        1600     3500     2.65\n",
       "4        1600     4250     2.70\n",
       "5        1600     5000     2.60\n",
       "6        2000     3500     2.70\n",
       "7        2000     4250     2.60\n",
       "8        2000     5000     2.65\n",
       "9        1300     5000     2.64"
      ]
     },
     "execution_count": 114,
     "metadata": {},
     "output_type": "execute_result"
    }
   ],
   "source": [
    "X.head(10)"
   ]
  },
  {
   "cell_type": "code",
   "execution_count": 115,
   "id": "e2a3c4b7",
   "metadata": {},
   "outputs": [
    {
     "data": {
      "text/html": [
       "<div>\n",
       "<style scoped>\n",
       "    .dataframe tbody tr th:only-of-type {\n",
       "        vertical-align: middle;\n",
       "    }\n",
       "\n",
       "    .dataframe tbody tr th {\n",
       "        vertical-align: top;\n",
       "    }\n",
       "\n",
       "    .dataframe thead th {\n",
       "        text-align: right;\n",
       "    }\n",
       "</style>\n",
       "<table border=\"1\" class=\"dataframe\">\n",
       "  <thead>\n",
       "    <tr style=\"text-align: right;\">\n",
       "      <th></th>\n",
       "      <th>V (mm/min)</th>\n",
       "      <th>w (rpm)</th>\n",
       "      <th>PD (mm)</th>\n",
       "      <th>OL (mm)</th>\n",
       "      <th>DAF (N)</th>\n",
       "      <th>FF (N)</th>\n",
       "    </tr>\n",
       "  </thead>\n",
       "  <tbody>\n",
       "    <tr>\n",
       "      <th>0</th>\n",
       "      <td>1300</td>\n",
       "      <td>3500</td>\n",
       "      <td>2.60</td>\n",
       "      <td>11.8</td>\n",
       "      <td>2930</td>\n",
       "      <td>7661</td>\n",
       "    </tr>\n",
       "    <tr>\n",
       "      <th>1</th>\n",
       "      <td>1300</td>\n",
       "      <td>4250</td>\n",
       "      <td>2.65</td>\n",
       "      <td>15.6</td>\n",
       "      <td>3630</td>\n",
       "      <td>7261</td>\n",
       "    </tr>\n",
       "    <tr>\n",
       "      <th>2</th>\n",
       "      <td>1300</td>\n",
       "      <td>5000</td>\n",
       "      <td>2.70</td>\n",
       "      <td>18.8</td>\n",
       "      <td>4040</td>\n",
       "      <td>6063</td>\n",
       "    </tr>\n",
       "    <tr>\n",
       "      <th>3</th>\n",
       "      <td>1600</td>\n",
       "      <td>3500</td>\n",
       "      <td>2.65</td>\n",
       "      <td>18.9</td>\n",
       "      <td>3950</td>\n",
       "      <td>7373</td>\n",
       "    </tr>\n",
       "    <tr>\n",
       "      <th>4</th>\n",
       "      <td>1600</td>\n",
       "      <td>4250</td>\n",
       "      <td>2.70</td>\n",
       "      <td>11.6</td>\n",
       "      <td>3860</td>\n",
       "      <td>6374</td>\n",
       "    </tr>\n",
       "    <tr>\n",
       "      <th>5</th>\n",
       "      <td>1600</td>\n",
       "      <td>5000</td>\n",
       "      <td>2.60</td>\n",
       "      <td>15.6</td>\n",
       "      <td>2930</td>\n",
       "      <td>5848</td>\n",
       "    </tr>\n",
       "    <tr>\n",
       "      <th>6</th>\n",
       "      <td>2000</td>\n",
       "      <td>3500</td>\n",
       "      <td>2.70</td>\n",
       "      <td>15.6</td>\n",
       "      <td>4700</td>\n",
       "      <td>7346</td>\n",
       "    </tr>\n",
       "    <tr>\n",
       "      <th>7</th>\n",
       "      <td>2000</td>\n",
       "      <td>4250</td>\n",
       "      <td>2.60</td>\n",
       "      <td>18.7</td>\n",
       "      <td>3650</td>\n",
       "      <td>6954</td>\n",
       "    </tr>\n",
       "    <tr>\n",
       "      <th>8</th>\n",
       "      <td>2000</td>\n",
       "      <td>5000</td>\n",
       "      <td>2.65</td>\n",
       "      <td>11.1</td>\n",
       "      <td>3590</td>\n",
       "      <td>5297</td>\n",
       "    </tr>\n",
       "    <tr>\n",
       "      <th>9</th>\n",
       "      <td>1300</td>\n",
       "      <td>5000</td>\n",
       "      <td>2.64</td>\n",
       "      <td>18.7</td>\n",
       "      <td>3630</td>\n",
       "      <td>6612</td>\n",
       "    </tr>\n",
       "  </tbody>\n",
       "</table>\n",
       "</div>"
      ],
      "text/plain": [
       "   V (mm/min)  w (rpm)  PD (mm)  OL (mm)  DAF (N)  FF (N)\n",
       "0        1300     3500     2.60     11.8     2930    7661\n",
       "1        1300     4250     2.65     15.6     3630    7261\n",
       "2        1300     5000     2.70     18.8     4040    6063\n",
       "3        1600     3500     2.65     18.9     3950    7373\n",
       "4        1600     4250     2.70     11.6     3860    6374\n",
       "5        1600     5000     2.60     15.6     2930    5848\n",
       "6        2000     3500     2.70     15.6     4700    7346\n",
       "7        2000     4250     2.60     18.7     3650    6954\n",
       "8        2000     5000     2.65     11.1     3590    5297\n",
       "9        1300     5000     2.64     18.7     3630    6612"
      ]
     },
     "execution_count": 115,
     "metadata": {},
     "output_type": "execute_result"
    }
   ],
   "source": [
    "df_fsw.head(10)"
   ]
  },
  {
   "cell_type": "code",
   "execution_count": 119,
   "id": "5d4f0c02",
   "metadata": {},
   "outputs": [
    {
     "name": "stdout",
     "output_type": "stream",
     "text": [
      "                  df        sum_sq       mean_sq          F    PR(>F)\n",
      "Q(\"V (mm/min)\")  1.0  1.219532e+06  1.219532e+06   3.577336  0.100471\n",
      "Q(\"w (rpm)\")     1.0  4.913040e+06  4.913040e+06  14.411759  0.006747\n",
      "Q(\"PD (mm)\")     1.0  2.075048e+05  2.075048e+05   0.608688  0.460844\n",
      "Q(\"OL (mm)\")     1.0  6.724977e+04  6.724977e+04   0.197268  0.670341\n",
      "Q(\"DAF (N)\")     1.0  2.658600e+05  2.658600e+05   0.779865  0.406487\n",
      "Residual         7.0  2.386335e+06  3.409049e+05        NaN       NaN\n"
     ]
    }
   ],
   "source": [
    "# Perform ANOVA analysis\n",
    "model = ols('Q(\"FF (N)\") ~ Q(\"V (mm/min)\") + Q(\"w (rpm)\") + Q(\"PD (mm)\") + Q(\"OL (mm)\") + Q(\"DAF (N)\")', data=df_fsw).fit()\n",
    "anova_table = sm.stats.anova_lm(model)\n",
    "\n",
    "# Print the ANOVA table\n",
    "print(anova_table)"
   ]
  },
  {
   "cell_type": "code",
   "execution_count": 121,
   "id": "59f0d31f",
   "metadata": {
    "scrolled": true
   },
   "outputs": [
    {
     "data": {
      "image/png": "[encoded data removed]",
      "text/plain": [
       "<Figure size 640x480 with 1 Axes>"
      ]
     },
     "metadata": {},
     "output_type": "display_data"
    }
   ],
   "source": [
    "# Extract the group means\n",
    "group_means = df_fsw.groupby([\"V (mm/min)\", \"w (rpm)\", \"PD (mm)\", \"OL (mm)\", \"DAF (N)\"])[\"FF (N)\"].mean().reset_index()\n",
    "\n",
    "# Visualize the group means using box plots\n",
    "sns.boxplot(data=group_means, x=\"V (mm/min)\", y=\"FF (N)\")\n",
    "plt.xlabel(\"V (mm/min)\")\n",
    "plt.ylabel(\"FF (N)\")\n",
    "plt.title(\"Box Plot of FF (N) by V (mm/min)\")\n",
    "plt.show()"
   ]
  },
  {
   "cell_type": "markdown",
   "id": "6e326665",
   "metadata": {},
   "source": [
    "#### Fit a Polynomial Distribution Formula"
   ]
  },
  {
   "cell_type": "code",
   "execution_count": 122,
   "id": "ccc4e9af",
   "metadata": {
    "scrolled": true
   },
   "outputs": [
    {
     "name": "stdout",
     "output_type": "stream",
     "text": [
      "                            OLS Regression Results                            \n",
      "==============================================================================\n",
      "Dep. Variable:                 FF (N)   R-squared:                       0.737\n",
      "Model:                            OLS   Adj. R-squared:                  0.548\n",
      "Method:                 Least Squares   F-statistic:                     3.915\n",
      "Date:                Sun, 11 Jun 2023   Prob (F-statistic):             0.0517\n",
      "Time:                        17:09:33   Log-Likelihood:                -97.228\n",
      "No. Observations:                  13   AIC:                             206.5\n",
      "Df Residuals:                       7   BIC:                             209.8\n",
      "Df Model:                           5                                         \n",
      "Covariance Type:            nonrobust                                         \n",
      "==============================================================================\n",
      "                 coef    std err          t      P>|t|      [0.025      0.975]\n",
      "------------------------------------------------------------------------------\n",
      "const       4.236e+04   4.53e+04      0.935      0.381   -6.48e+04    1.49e+05\n",
      "V (mm/min)    -2.0070      1.113     -1.804      0.114      -4.638       0.624\n",
      "w (rpm)       -0.6775      0.457     -1.484      0.181      -1.757       0.402\n",
      "PD (mm)    -1.292e+04   1.88e+04     -0.687      0.514   -5.73e+04    3.15e+04\n",
      "OL (mm)      -67.7814    122.494     -0.553      0.597    -357.434     221.871\n",
      "DAF (N)        1.5305      1.733      0.883      0.406      -2.568       5.629\n",
      "==============================================================================\n",
      "Omnibus:                        6.334   Durbin-Watson:                   2.293\n",
      "Prob(Omnibus):                  0.042   Jarque-Bera (JB):                2.793\n",
      "Skew:                          -0.867   Prob(JB):                        0.247\n",
      "Kurtosis:                       4.466   Cond. No.                     1.80e+06\n",
      "==============================================================================\n",
      "\n",
      "Notes:\n",
      "[1] Standard Errors assume that the covariance matrix of the errors is correctly specified.\n",
      "[2] The condition number is large, 1.8e+06. This might indicate that there are\n",
      "strong multicollinearity or other numerical problems.\n"
     ]
    },
    {
     "name": "stderr",
     "output_type": "stream",
     "text": [
      "C:\\Users\\tohid\\anaconda3\\envs\\tf\\lib\\site-packages\\scipy\\stats\\_stats_py.py:1736: UserWarning: kurtosistest only valid for n>=20 ... continuing anyway, n=13\n",
      "  warnings.warn(\"kurtosistest only valid for n>=20 ... continuing \"\n"
     ]
    }
   ],
   "source": [
    "# Fit a polynomial regression model\n",
    "X = df_fsw[['V (mm/min)', 'w (rpm)', 'PD (mm)', 'OL (mm)', 'DAF (N)']]\n",
    "X = sm.add_constant(X)\n",
    "y = df_fsw['FF (N)']\n",
    "\n",
    "model = sm.OLS(y, X)\n",
    "results = model.fit()\n",
    "\n",
    "# Print the model summary\n",
    "print(results.summary())"
   ]
  },
  {
   "cell_type": "markdown",
   "id": "2b8c0522",
   "metadata": {},
   "source": [
    "#### Fitting a Linear Regression model and minimize RMSE"
   ]
  },
  {
   "cell_type": "code",
   "execution_count": 124,
   "id": "2cbed444",
   "metadata": {},
   "outputs": [
    {
     "data": {
      "image/png": "[encoded data removed]",
      "text/plain": [
       "<Figure size 640x480 with 1 Axes>"
      ]
     },
     "metadata": {},
     "output_type": "display_data"
    },
    {
     "name": "stdout",
     "output_type": "stream",
     "text": [
      "Train RMSE: 0.00\n",
      "Test RMSE: 756.06\n"
     ]
    }
   ],
   "source": [
    "# Split the dataset into training and testing sets\n",
    "X = df_fsw[['V (mm/min)', 'w (rpm)', 'PD (mm)', 'OL (mm)', 'DAF (N)']]\n",
    "y = df_fsw['FF (N)']\n",
    "X_train, X_test, y_train, y_test = train_test_split(X, y, test_size=0.2, random_state=42)\n",
    "\n",
    "# Fit a polynomial regression model\n",
    "degree = 2  # Degree of the polynomial\n",
    "poly_features = PolynomialFeatures(degree=degree)\n",
    "X_train_poly = poly_features.fit_transform(X_train)\n",
    "X_test_poly = poly_features.transform(X_test)\n",
    "\n",
    "model = LinearRegression()\n",
    "model.fit(X_train_poly, y_train)\n",
    "\n",
    "# Predict using the model\n",
    "y_train_pred = model.predict(X_train_poly)\n",
    "y_test_pred = model.predict(X_test_poly)\n",
    "\n",
    "# Calculate the RMSE\n",
    "train_rmse = np.sqrt(mean_squared_error(y_train, y_train_pred))\n",
    "test_rmse = np.sqrt(mean_squared_error(y_test, y_test_pred))\n",
    "\n",
    "# Plot the predicted values versus the actual values\n",
    "plt.scatter(y_train, y_train_pred, color='blue', label='Train')\n",
    "plt.scatter(y_test, y_test_pred, color='red', label='Test')\n",
    "plt.plot([min(y), max(y)], [min(y), max(y)], color='black', linestyle='--')\n",
    "plt.xlabel('Actual Values')\n",
    "plt.ylabel('Predicted Values')\n",
    "plt.title('Actual vs Predicted Values')\n",
    "plt.legend()\n",
    "plt.show()\n",
    "\n",
    "# Print the RMSE\n",
    "print(f\"Train RMSE: {train_rmse:.2f}\")\n",
    "print(f\"Test RMSE: {test_rmse:.2f}\")"
   ]
  },
  {
   "cell_type": "code",
   "execution_count": null,
   "id": "55496688",
   "metadata": {},
   "outputs": [],
   "source": []
  }
 ],
 "metadata": {
  "kernelspec": {
   "display_name": "Python 3 (ipykernel)",
   "language": "python",
   "name": "python3"
  },
  "language_info": {
   "codemirror_mode": {
    "name": "ipython",
    "version": 3
   },
   "file_extension": ".py",
   "mimetype": "text/x-python",
   "name": "python",
   "nbconvert_exporter": "python",
   "pygments_lexer": "ipython3",
   "version": "3.10.11"
  }
 },
 "nbformat": 4,
 "nbformat_minor": 5
}
